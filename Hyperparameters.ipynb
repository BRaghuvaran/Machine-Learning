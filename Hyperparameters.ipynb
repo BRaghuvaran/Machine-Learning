{
  "nbformat": 4,
  "nbformat_minor": 0,
  "metadata": {
    "colab": {
      "provenance": []
    },
    "kernelspec": {
      "name": "python3",
      "display_name": "Python 3"
    },
    "language_info": {
      "name": "python"
    }
  },
  "cells": [
    {
      "cell_type": "markdown",
      "source": [
        "### Step 1: Importing Required Libraries"
      ],
      "metadata": {
        "id": "3Jq9Q0ypkM-h"
      }
    },
    {
      "cell_type": "code",
      "execution_count": 1,
      "metadata": {
        "id": "Fbswfm1hjgZy"
      },
      "outputs": [],
      "source": [
        "# Import essential libraries for data processing and machine learning\n",
        "import pandas as pd  # For handling tabular data\n",
        "import numpy as np  # For numerical operations\n",
        "from sklearn.datasets import load_iris  # To load the Iris dataset\n",
        "from sklearn.ensemble import RandomForestClassifier  # Random Forest model\n",
        "from sklearn.model_selection import train_test_split, GridSearchCV, RandomizedSearchCV  # Tuning methods\n",
        "from sklearn.metrics import accuracy_score, classification_report  # For evaluation"
      ]
    },
    {
      "cell_type": "markdown",
      "source": [
        "### Step 2: Load and Prepare the Dataset"
      ],
      "metadata": {
        "id": "YmvOKMi-kVPJ"
      }
    },
    {
      "cell_type": "code",
      "source": [
        "# Load the Iris dataset into memory\n",
        "iris = load_iris()\n",
        "\n",
        "# Separate features (X) and target labels (y)\n",
        "X = iris.data  # Feature matrix with 4 columns (sepal and petal measurements)\n",
        "y = iris.target  # Target variable with 3 classes (species of iris flowers)\n",
        "\n",
        "# Split the dataset into training (80%) and testing (20%) sets\n",
        "X_train, X_test, y_train, y_test = train_test_split(\n",
        "    X, y, test_size=0.2, random_state=42  # Ensure reproducibility with random_state\n",
        ")"
      ],
      "metadata": {
        "id": "GzNv0sZpkdMb"
      },
      "execution_count": 2,
      "outputs": []
    },
    {
      "cell_type": "markdown",
      "source": [
        "### Step 3: Define the Model"
      ],
      "metadata": {
        "id": "IoKexpAlki4V"
      }
    },
    {
      "cell_type": "code",
      "source": [
        "# Initialize a Random Forest classifier model\n",
        "# Random Forest is a robust and flexible classification algorithm\n",
        "model = RandomForestClassifier(random_state=42)  # Set random_state for consistency"
      ],
      "metadata": {
        "id": "71sCHcuOkmsz"
      },
      "execution_count": 3,
      "outputs": []
    },
    {
      "cell_type": "markdown",
      "source": [
        "### Step 4: Hyperparameter Tuning Using GridSearchCV"
      ],
      "metadata": {
        "id": "WN0PcCa5ktt1"
      }
    },
    {
      "cell_type": "markdown",
      "source": [
        "**Define the Parameter Grid**"
      ],
      "metadata": {
        "id": "Vzk6tMtQk1Vw"
      }
    },
    {
      "cell_type": "code",
      "source": [
        "# Specify a grid of hyperparameters to search over\n",
        "param_grid = {\n",
        "    'n_estimators': [10, 50, 100],  # Number of trees in the forest\n",
        "    'max_depth': [None, 10, 20, 30],  # Maximum depth of each tree\n",
        "    'min_samples_split': [2, 5, 10],  # Minimum samples required to split a node\n",
        "    'min_samples_leaf': [1, 2, 4]  # Minimum samples required to form a leaf node\n",
        "}"
      ],
      "metadata": {
        "id": "PDWqPzdekxRq"
      },
      "execution_count": 4,
      "outputs": []
    },
    {
      "cell_type": "markdown",
      "source": [
        "**Perform Grid Search**"
      ],
      "metadata": {
        "id": "Q6tKGYIak52N"
      }
    },
    {
      "cell_type": "code",
      "source": [
        "# Initialize GridSearchCV with the model and parameter grid\n",
        "grid_search = GridSearchCV(\n",
        "    estimator=model,  # Model to optimize\n",
        "    param_grid=param_grid,  # Hyperparameter grid to search\n",
        "    cv=3,  # Perform 3-fold cross-validation\n",
        "    scoring='accuracy',  # Metric to optimize\n",
        "    verbose=2,  # Display detailed progress\n",
        "    n_jobs=-1  # Use all available CPU cores\n",
        ")\n",
        "\n",
        "# Fit GridSearchCV on the training data\n",
        "grid_search.fit(X_train, y_train)\n",
        "\n",
        "# Display the best hyperparameters and corresponding score\n",
        "print(\"Best Parameters from GridSearchCV:\", grid_search.best_params_)\n",
        "print(\"Best Score from GridSearchCV:\", grid_search.best_score_)"
      ],
      "metadata": {
        "colab": {
          "base_uri": "https://localhost:8080/"
        },
        "id": "qiDbAQjbk-oV",
        "outputId": "a8c481e4-27e7-4920-b664-cedfdc14f0ac"
      },
      "execution_count": 5,
      "outputs": [
        {
          "output_type": "stream",
          "name": "stdout",
          "text": [
            "Fitting 3 folds for each of 108 candidates, totalling 324 fits\n",
            "Best Parameters from GridSearchCV: {'max_depth': None, 'min_samples_leaf': 1, 'min_samples_split': 2, 'n_estimators': 10}\n",
            "Best Score from GridSearchCV: 0.9583333333333334\n"
          ]
        }
      ]
    },
    {
      "cell_type": "markdown",
      "source": [
        "### Step 5: Hyperparameter Tuning Using RandomizedSearchCV"
      ],
      "metadata": {
        "id": "7CmtYncHlBLK"
      }
    },
    {
      "cell_type": "markdown",
      "source": [
        "**Define the Parameter Distributions**"
      ],
      "metadata": {
        "id": "VqGsG4tIlIjp"
      }
    },
    {
      "cell_type": "code",
      "source": [
        "# Use scipy's randint to define a distribution for random sampling\n",
        "from scipy.stats import randint\n",
        "\n",
        "param_dist = {\n",
        "    'n_estimators': randint(10, 200),  # Sample number of trees randomly between 10 and 200\n",
        "    'max_depth': [None, 10, 20, 30],  # Use the same depth options as GridSearchCV\n",
        "    'min_samples_split': randint(2, 10),  # Randomly sample split thresholds between 2 and 10\n",
        "    'min_samples_leaf': randint(1, 10)  # Randomly sample leaf sizes between 1 and 10\n",
        "}"
      ],
      "metadata": {
        "id": "VkNEdFEnlGBg"
      },
      "execution_count": 6,
      "outputs": []
    },
    {
      "cell_type": "markdown",
      "source": [
        "**Perform Randomized Search**"
      ],
      "metadata": {
        "id": "TChW5lzllOFd"
      }
    },
    {
      "cell_type": "code",
      "source": [
        "# Initialize RandomizedSearchCV with the model and parameter distribution\n",
        "random_search = RandomizedSearchCV(\n",
        "    estimator=model,  # Model to optimize\n",
        "    param_distributions=param_dist,  # Hyperparameter distributions for sampling\n",
        "    n_iter=50,  # Number of random combinations to try\n",
        "    cv=3,  # Perform 3-fold cross-validation\n",
        "    scoring='accuracy',  # Metric to optimize\n",
        "    verbose=2,  # Display detailed progress\n",
        "    random_state=42,  # Ensure reproducibility\n",
        "    n_jobs=-1  # Use all available CPU cores\n",
        ")\n",
        "\n",
        "# Fit RandomizedSearchCV on the training data\n",
        "random_search.fit(X_train, y_train)\n",
        "\n",
        "# Display the best hyperparameters and corresponding score\n",
        "print(\"Best Parameters from RandomizedSearchCV:\", random_search.best_params_)\n",
        "print(\"Best Score from RandomizedSearchCV:\", random_search.best_score_)"
      ],
      "metadata": {
        "colab": {
          "base_uri": "https://localhost:8080/"
        },
        "id": "Tr-nXJ-plSUA",
        "outputId": "0f405542-d03c-44f9-923d-0154a4937000"
      },
      "execution_count": 7,
      "outputs": [
        {
          "output_type": "stream",
          "name": "stdout",
          "text": [
            "Fitting 3 folds for each of 50 candidates, totalling 150 fits\n",
            "Best Parameters from RandomizedSearchCV: {'max_depth': 10, 'min_samples_leaf': 3, 'min_samples_split': 2, 'n_estimators': 14}\n",
            "Best Score from RandomizedSearchCV: 0.9666666666666667\n"
          ]
        }
      ]
    },
    {
      "cell_type": "markdown",
      "source": [
        "### Step 6: Evaluate the Best Models"
      ],
      "metadata": {
        "id": "jNtv5nF5lVDj"
      }
    },
    {
      "cell_type": "markdown",
      "source": [
        "**GridSearchCV Evaluation**"
      ],
      "metadata": {
        "id": "PcPFc5VzlbnR"
      }
    },
    {
      "cell_type": "code",
      "source": [
        "# Retrieve the best model from GridSearchCV\n",
        "best_model_grid = grid_search.best_estimator_\n",
        "\n",
        "# Make predictions on the test set using the best model\n",
        "y_pred_grid = best_model_grid.predict(X_test)\n",
        "\n",
        "# Display classification report for GridSearchCV results\n",
        "print(\"\\nGridSearchCV Classification Report:\")\n",
        "print(classification_report(y_test, y_pred_grid))"
      ],
      "metadata": {
        "colab": {
          "base_uri": "https://localhost:8080/"
        },
        "id": "Fz9TvJMRlYtE",
        "outputId": "1836aa91-f803-4e7d-c6fb-c66b2c518e5f"
      },
      "execution_count": 8,
      "outputs": [
        {
          "output_type": "stream",
          "name": "stdout",
          "text": [
            "\n",
            "GridSearchCV Classification Report:\n",
            "              precision    recall  f1-score   support\n",
            "\n",
            "           0       1.00      1.00      1.00        10\n",
            "           1       1.00      1.00      1.00         9\n",
            "           2       1.00      1.00      1.00        11\n",
            "\n",
            "    accuracy                           1.00        30\n",
            "   macro avg       1.00      1.00      1.00        30\n",
            "weighted avg       1.00      1.00      1.00        30\n",
            "\n"
          ]
        }
      ]
    },
    {
      "cell_type": "markdown",
      "source": [
        "**RandomizedSearchCV Evaluation**"
      ],
      "metadata": {
        "id": "sqxFiYNKljOt"
      }
    },
    {
      "cell_type": "code",
      "source": [
        "# Retrieve the best model from RandomizedSearchCV\n",
        "best_model_random = random_search.best_estimator_\n",
        "\n",
        "# Make predictions on the test set using the best model\n",
        "y_pred_random = best_model_random.predict(X_test)\n",
        "\n",
        "# Display classification report for RandomizedSearchCV results\n",
        "print(\"\\nRandomizedSearchCV Classification Report:\")\n",
        "print(classification_report(y_test, y_pred_random))"
      ],
      "metadata": {
        "colab": {
          "base_uri": "https://localhost:8080/"
        },
        "id": "KU44g7OlloMQ",
        "outputId": "e44b2a50-7702-4e43-e6b4-601aae4f535f"
      },
      "execution_count": 9,
      "outputs": [
        {
          "output_type": "stream",
          "name": "stdout",
          "text": [
            "\n",
            "RandomizedSearchCV Classification Report:\n",
            "              precision    recall  f1-score   support\n",
            "\n",
            "           0       1.00      1.00      1.00        10\n",
            "           1       1.00      1.00      1.00         9\n",
            "           2       1.00      1.00      1.00        11\n",
            "\n",
            "    accuracy                           1.00        30\n",
            "   macro avg       1.00      1.00      1.00        30\n",
            "weighted avg       1.00      1.00      1.00        30\n",
            "\n"
          ]
        }
      ]
    }
  ]
}